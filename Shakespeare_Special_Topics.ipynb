{
  "nbformat": 4,
  "nbformat_minor": 0,
  "metadata": {
    "colab": {
      "name": "Untitled3.ipynb",
      "provenance": [],
      "authorship_tag": "ABX9TyNRvMjKIbhBRPpGBwxcdg/l",
      "include_colab_link": true
    },
    "kernelspec": {
      "name": "python3",
      "display_name": "Python 3"
    },
    "accelerator": "GPU"
  },
  "cells": [
    {
      "cell_type": "markdown",
      "metadata": {
        "id": "view-in-github",
        "colab_type": "text"
      },
      "source": [
        "<a href=\"https://colab.research.google.com/github/palashsharma891/ShakespeareStyleTextGeneration/blob/main/Shakespeare_Special_Topics.ipynb\" target=\"_parent\"><img src=\"https://colab.research.google.com/assets/colab-badge.svg\" alt=\"Open In Colab\"/></a>"
      ]
    },
    {
      "cell_type": "code",
      "metadata": {
        "id": "jyDoO64qoTz-"
      },
      "source": [
        "from tensorflow.keras.preprocessing.sequence import pad_sequences\n",
        "from tensorflow.keras.layers import Embedding, LSTM, Dense, Dropout, Bidirectional, GRU\n",
        "from tensorflow.keras.preprocessing.text import Tokenizer\n",
        "from tensorflow.keras.models import Sequential\n",
        "from tensorflow.keras.optimizers import Adam\n",
        "from tensorflow.keras import regularizers\n",
        "import tensorflow.keras.utils as ku \n",
        "import numpy as np "
      ],
      "execution_count": 10,
      "outputs": []
    },
    {
      "cell_type": "code",
      "metadata": {
        "colab": {
          "base_uri": "https://localhost:8080/"
        },
        "id": "4EuHkTH8oVjF",
        "outputId": "8d5fe6f3-1510-419d-905b-0565b4ef1824"
      },
      "source": [
        "tokenizer = Tokenizer()\n",
        "!wget --no-check-certificate \\\n",
        "    https://storage.googleapis.com/laurencemoroney-blog.appspot.com/sonnets.txt \\\n",
        "    -O /tmp/sonnets.txt\n",
        "data = open('/tmp/sonnets.txt').read()\n",
        "\n",
        "corpus = data.lower().split(\"\\n\")\n",
        "\n",
        "\n",
        "tokenizer.fit_on_texts(corpus)\n",
        "total_words = len(tokenizer.word_index) + 1\n",
        "\n",
        "# create input sequences using list of tokens\n",
        "input_sequences = []\n",
        "for line in corpus:\n",
        "\ttoken_list = tokenizer.texts_to_sequences([line])[0]\n",
        "\tfor i in range(1, len(token_list)):\n",
        "\t\tn_gram_sequence = token_list[:i+1]\n",
        "\t\tinput_sequences.append(n_gram_sequence)\n",
        "\n",
        "\n",
        "# pad sequences \n",
        "max_sequence_len = max([len(x) for x in input_sequences])\n",
        "input_sequences = np.array(pad_sequences(input_sequences, maxlen=max_sequence_len, padding='pre'))\n",
        "\n",
        "# create predictors and label\n",
        "predictors, label = input_sequences[:,:-1],input_sequences[:,-1]\n",
        "\n",
        "label = ku.to_categorical(label, num_classes=total_words)"
      ],
      "execution_count": 2,
      "outputs": [
        {
          "output_type": "stream",
          "name": "stdout",
          "text": [
            "--2022-05-31 07:51:16--  https://storage.googleapis.com/laurencemoroney-blog.appspot.com/sonnets.txt\n",
            "Resolving storage.googleapis.com (storage.googleapis.com)... 173.194.210.128, 173.194.217.128, 74.125.31.128, ...\n",
            "Connecting to storage.googleapis.com (storage.googleapis.com)|173.194.210.128|:443... connected.\n",
            "HTTP request sent, awaiting response... 200 OK\n",
            "Length: 93578 (91K) [text/plain]\n",
            "Saving to: ‘/tmp/sonnets.txt’\n",
            "\n",
            "\r/tmp/sonnets.txt      0%[                    ]       0  --.-KB/s               \r/tmp/sonnets.txt    100%[===================>]  91.38K  --.-KB/s    in 0.001s  \n",
            "\n",
            "2022-05-31 07:51:16 (161 MB/s) - ‘/tmp/sonnets.txt’ saved [93578/93578]\n",
            "\n"
          ]
        }
      ]
    },
    {
      "cell_type": "code",
      "metadata": {
        "colab": {
          "base_uri": "https://localhost:8080/"
        },
        "id": "WNJ9oef3obfa",
        "outputId": "6c0abe97-2ab8-443a-b4aa-32019c0ad4ad"
      },
      "source": [
        "model = Sequential()\n",
        "model.add(Embedding(total_words, 100, input_length=max_sequence_len-1))\n",
        "model.add(Bidirectional(LSTM(150, return_sequences = True)))\n",
        "model.add(Dropout(0.2))\n",
        "model.add(LSTM(100))\n",
        "model.add(Dense(total_words/2, activation='relu', kernel_regularizer=regularizers.l2(0.01)))\n",
        "model.add(Dense(total_words, activation='softmax'))\n",
        "model.compile(loss='categorical_crossentropy', optimizer='adam', metrics=['accuracy'])\n",
        "print(model.summary())"
      ],
      "execution_count": 3,
      "outputs": [
        {
          "output_type": "stream",
          "name": "stdout",
          "text": [
            "Model: \"sequential\"\n",
            "_________________________________________________________________\n",
            " Layer (type)                Output Shape              Param #   \n",
            "=================================================================\n",
            " embedding (Embedding)       (None, 10, 100)           321100    \n",
            "                                                                 \n",
            " bidirectional (Bidirectiona  (None, 10, 300)          301200    \n",
            " l)                                                              \n",
            "                                                                 \n",
            " dropout (Dropout)           (None, 10, 300)           0         \n",
            "                                                                 \n",
            " lstm_1 (LSTM)               (None, 100)               160400    \n",
            "                                                                 \n",
            " dense (Dense)               (None, 1605)              162105    \n",
            "                                                                 \n",
            " dense_1 (Dense)             (None, 3211)              5156866   \n",
            "                                                                 \n",
            "=================================================================\n",
            "Total params: 6,101,671\n",
            "Trainable params: 6,101,671\n",
            "Non-trainable params: 0\n",
            "_________________________________________________________________\n",
            "None\n"
          ]
        }
      ]
    },
    {
      "cell_type": "code",
      "metadata": {
        "colab": {
          "base_uri": "https://localhost:8080/"
        },
        "id": "GjjQPxLgofWQ",
        "outputId": "1faaf29b-bc01-42f7-8feb-2db6950b56d1"
      },
      "source": [
        " history = model.fit(predictors, label, epochs=100, verbose=1)"
      ],
      "execution_count": 4,
      "outputs": [
        {
          "output_type": "stream",
          "name": "stdout",
          "text": [
            "Epoch 1/100\n",
            "484/484 [==============================] - 14s 10ms/step - loss: 6.9024 - accuracy: 0.0225\n",
            "Epoch 2/100\n",
            "484/484 [==============================] - 5s 11ms/step - loss: 6.4959 - accuracy: 0.0213\n",
            "Epoch 3/100\n",
            "484/484 [==============================] - 5s 9ms/step - loss: 6.3901 - accuracy: 0.0270\n",
            "Epoch 4/100\n",
            "484/484 [==============================] - 5s 11ms/step - loss: 6.2573 - accuracy: 0.0330\n",
            "Epoch 5/100\n",
            "484/484 [==============================] - 5s 10ms/step - loss: 6.1555 - accuracy: 0.0363\n",
            "Epoch 6/100\n",
            "484/484 [==============================] - 7s 15ms/step - loss: 6.0716 - accuracy: 0.0406\n",
            "Epoch 7/100\n",
            "484/484 [==============================] - 8s 16ms/step - loss: 5.9873 - accuracy: 0.0435\n",
            "Epoch 8/100\n",
            "484/484 [==============================] - 5s 10ms/step - loss: 5.8893 - accuracy: 0.0484\n",
            "Epoch 9/100\n",
            "484/484 [==============================] - 5s 10ms/step - loss: 5.7873 - accuracy: 0.0559\n",
            "Epoch 10/100\n",
            "484/484 [==============================] - 5s 10ms/step - loss: 5.6811 - accuracy: 0.0608\n",
            "Epoch 11/100\n",
            "484/484 [==============================] - 5s 10ms/step - loss: 5.5777 - accuracy: 0.0644\n",
            "Epoch 12/100\n",
            "484/484 [==============================] - 5s 10ms/step - loss: 5.4729 - accuracy: 0.0698\n",
            "Epoch 13/100\n",
            "484/484 [==============================] - 5s 10ms/step - loss: 5.3738 - accuracy: 0.0774\n",
            "Epoch 14/100\n",
            "484/484 [==============================] - 5s 10ms/step - loss: 5.2655 - accuracy: 0.0840\n",
            "Epoch 15/100\n",
            "484/484 [==============================] - 5s 10ms/step - loss: 5.1639 - accuracy: 0.0921\n",
            "Epoch 16/100\n",
            "484/484 [==============================] - 5s 10ms/step - loss: 5.0552 - accuracy: 0.0994\n",
            "Epoch 17/100\n",
            "484/484 [==============================] - 5s 10ms/step - loss: 4.9458 - accuracy: 0.1069\n",
            "Epoch 18/100\n",
            "484/484 [==============================] - 5s 10ms/step - loss: 4.8384 - accuracy: 0.1158\n",
            "Epoch 19/100\n",
            "484/484 [==============================] - 5s 10ms/step - loss: 4.7400 - accuracy: 0.1185\n",
            "Epoch 20/100\n",
            "484/484 [==============================] - 5s 10ms/step - loss: 4.6304 - accuracy: 0.1311\n",
            "Epoch 21/100\n",
            "484/484 [==============================] - 5s 10ms/step - loss: 4.5309 - accuracy: 0.1397\n",
            "Epoch 22/100\n",
            "484/484 [==============================] - 5s 10ms/step - loss: 4.4309 - accuracy: 0.1493\n",
            "Epoch 23/100\n",
            "484/484 [==============================] - 5s 10ms/step - loss: 4.3274 - accuracy: 0.1592\n",
            "Epoch 24/100\n",
            "484/484 [==============================] - 5s 10ms/step - loss: 4.2333 - accuracy: 0.1742\n",
            "Epoch 25/100\n",
            "484/484 [==============================] - 5s 10ms/step - loss: 4.1252 - accuracy: 0.1878\n",
            "Epoch 26/100\n",
            "484/484 [==============================] - 5s 10ms/step - loss: 4.0321 - accuracy: 0.1991\n",
            "Epoch 27/100\n",
            "484/484 [==============================] - 5s 10ms/step - loss: 3.9225 - accuracy: 0.2180\n",
            "Epoch 28/100\n",
            "484/484 [==============================] - 5s 10ms/step - loss: 3.8221 - accuracy: 0.2346\n",
            "Epoch 29/100\n",
            "484/484 [==============================] - 5s 10ms/step - loss: 3.7259 - accuracy: 0.2498\n",
            "Epoch 30/100\n",
            "484/484 [==============================] - 5s 10ms/step - loss: 3.6410 - accuracy: 0.2683\n",
            "Epoch 31/100\n",
            "484/484 [==============================] - 5s 10ms/step - loss: 3.5469 - accuracy: 0.2860\n",
            "Epoch 32/100\n",
            "484/484 [==============================] - 5s 10ms/step - loss: 3.4576 - accuracy: 0.3050\n",
            "Epoch 33/100\n",
            "484/484 [==============================] - 5s 10ms/step - loss: 3.3724 - accuracy: 0.3255\n",
            "Epoch 34/100\n",
            "484/484 [==============================] - 5s 10ms/step - loss: 3.2803 - accuracy: 0.3459\n",
            "Epoch 35/100\n",
            "484/484 [==============================] - 5s 11ms/step - loss: 3.2018 - accuracy: 0.3623\n",
            "Epoch 36/100\n",
            "484/484 [==============================] - 5s 10ms/step - loss: 3.1339 - accuracy: 0.3819\n",
            "Epoch 37/100\n",
            "484/484 [==============================] - 5s 10ms/step - loss: 3.0507 - accuracy: 0.3971\n",
            "Epoch 38/100\n",
            "484/484 [==============================] - 5s 10ms/step - loss: 2.9759 - accuracy: 0.4170\n",
            "Epoch 39/100\n",
            "484/484 [==============================] - 5s 10ms/step - loss: 2.9083 - accuracy: 0.4307\n",
            "Epoch 40/100\n",
            "484/484 [==============================] - 5s 10ms/step - loss: 2.8331 - accuracy: 0.4491\n",
            "Epoch 41/100\n",
            "484/484 [==============================] - 5s 10ms/step - loss: 2.7734 - accuracy: 0.4625\n",
            "Epoch 42/100\n",
            "484/484 [==============================] - 5s 10ms/step - loss: 2.7116 - accuracy: 0.4760\n",
            "Epoch 43/100\n",
            "484/484 [==============================] - 5s 10ms/step - loss: 2.6522 - accuracy: 0.4913\n",
            "Epoch 44/100\n",
            "484/484 [==============================] - 5s 10ms/step - loss: 2.5832 - accuracy: 0.5057\n",
            "Epoch 45/100\n",
            "484/484 [==============================] - 5s 10ms/step - loss: 2.5373 - accuracy: 0.5122\n",
            "Epoch 46/100\n",
            "484/484 [==============================] - 5s 10ms/step - loss: 2.4744 - accuracy: 0.5282\n",
            "Epoch 47/100\n",
            "484/484 [==============================] - 5s 10ms/step - loss: 2.4238 - accuracy: 0.5402\n",
            "Epoch 48/100\n",
            "484/484 [==============================] - 5s 10ms/step - loss: 2.3721 - accuracy: 0.5536\n",
            "Epoch 49/100\n",
            "484/484 [==============================] - 5s 10ms/step - loss: 2.3111 - accuracy: 0.5691\n",
            "Epoch 50/100\n",
            "484/484 [==============================] - 5s 10ms/step - loss: 2.2599 - accuracy: 0.5803\n",
            "Epoch 51/100\n",
            "484/484 [==============================] - 5s 10ms/step - loss: 2.2164 - accuracy: 0.5884\n",
            "Epoch 52/100\n",
            "484/484 [==============================] - 5s 10ms/step - loss: 2.1792 - accuracy: 0.5993\n",
            "Epoch 53/100\n",
            "484/484 [==============================] - 5s 10ms/step - loss: 2.1328 - accuracy: 0.6067\n",
            "Epoch 54/100\n",
            "484/484 [==============================] - 5s 10ms/step - loss: 2.0919 - accuracy: 0.6173\n",
            "Epoch 55/100\n",
            "484/484 [==============================] - 5s 10ms/step - loss: 2.0348 - accuracy: 0.6310\n",
            "Epoch 56/100\n",
            "484/484 [==============================] - 5s 10ms/step - loss: 2.0147 - accuracy: 0.6332\n",
            "Epoch 57/100\n",
            "484/484 [==============================] - 5s 10ms/step - loss: 1.9739 - accuracy: 0.6434\n",
            "Epoch 58/100\n",
            "484/484 [==============================] - 5s 10ms/step - loss: 1.9356 - accuracy: 0.6535\n",
            "Epoch 59/100\n",
            "484/484 [==============================] - 5s 10ms/step - loss: 1.9014 - accuracy: 0.6638\n",
            "Epoch 60/100\n",
            "484/484 [==============================] - 5s 10ms/step - loss: 1.8670 - accuracy: 0.6705\n",
            "Epoch 61/100\n",
            "484/484 [==============================] - 5s 10ms/step - loss: 1.8228 - accuracy: 0.6779\n",
            "Epoch 62/100\n",
            "484/484 [==============================] - 5s 10ms/step - loss: 1.7957 - accuracy: 0.6854\n",
            "Epoch 63/100\n",
            "484/484 [==============================] - 5s 10ms/step - loss: 1.7703 - accuracy: 0.6852\n",
            "Epoch 64/100\n",
            "484/484 [==============================] - 5s 10ms/step - loss: 1.7457 - accuracy: 0.6942\n",
            "Epoch 65/100\n",
            "484/484 [==============================] - 5s 10ms/step - loss: 1.7182 - accuracy: 0.6985\n",
            "Epoch 66/100\n",
            "484/484 [==============================] - 5s 10ms/step - loss: 1.6765 - accuracy: 0.7094\n",
            "Epoch 67/100\n",
            "484/484 [==============================] - 5s 10ms/step - loss: 1.6486 - accuracy: 0.7170\n",
            "Epoch 68/100\n",
            "484/484 [==============================] - 5s 10ms/step - loss: 1.6402 - accuracy: 0.7155\n",
            "Epoch 69/100\n",
            "484/484 [==============================] - 5s 10ms/step - loss: 1.6053 - accuracy: 0.7239\n",
            "Epoch 70/100\n",
            "484/484 [==============================] - 5s 10ms/step - loss: 1.5725 - accuracy: 0.7288\n",
            "Epoch 71/100\n",
            "484/484 [==============================] - 5s 10ms/step - loss: 1.5503 - accuracy: 0.7364\n",
            "Epoch 72/100\n",
            "484/484 [==============================] - 5s 10ms/step - loss: 1.5209 - accuracy: 0.7382\n",
            "Epoch 73/100\n",
            "484/484 [==============================] - 5s 10ms/step - loss: 1.5122 - accuracy: 0.7397\n",
            "Epoch 74/100\n",
            "484/484 [==============================] - 5s 10ms/step - loss: 1.4985 - accuracy: 0.7441\n",
            "Epoch 75/100\n",
            "484/484 [==============================] - 5s 10ms/step - loss: 1.4785 - accuracy: 0.7473\n",
            "Epoch 76/100\n",
            "484/484 [==============================] - 5s 10ms/step - loss: 1.4478 - accuracy: 0.7516\n",
            "Epoch 77/100\n",
            "484/484 [==============================] - 5s 10ms/step - loss: 1.4451 - accuracy: 0.7510\n",
            "Epoch 78/100\n",
            "484/484 [==============================] - 5s 10ms/step - loss: 1.4312 - accuracy: 0.7541\n",
            "Epoch 79/100\n",
            "484/484 [==============================] - 5s 10ms/step - loss: 1.3945 - accuracy: 0.7634\n",
            "Epoch 80/100\n",
            "484/484 [==============================] - 5s 10ms/step - loss: 1.3701 - accuracy: 0.7685\n",
            "Epoch 81/100\n",
            "484/484 [==============================] - 5s 10ms/step - loss: 1.3496 - accuracy: 0.7743\n",
            "Epoch 82/100\n",
            "484/484 [==============================] - 5s 10ms/step - loss: 1.3378 - accuracy: 0.7734\n",
            "Epoch 83/100\n",
            "484/484 [==============================] - 5s 10ms/step - loss: 1.3379 - accuracy: 0.7689\n",
            "Epoch 84/100\n",
            "484/484 [==============================] - 5s 10ms/step - loss: 1.3138 - accuracy: 0.7764\n",
            "Epoch 85/100\n",
            "484/484 [==============================] - 5s 10ms/step - loss: 1.2980 - accuracy: 0.7814\n",
            "Epoch 86/100\n",
            "484/484 [==============================] - 5s 10ms/step - loss: 1.2796 - accuracy: 0.7811\n",
            "Epoch 87/100\n",
            "484/484 [==============================] - 5s 10ms/step - loss: 1.2621 - accuracy: 0.7842\n",
            "Epoch 88/100\n",
            "484/484 [==============================] - 5s 10ms/step - loss: 1.2578 - accuracy: 0.7845\n",
            "Epoch 89/100\n",
            "484/484 [==============================] - 5s 10ms/step - loss: 1.2536 - accuracy: 0.7868\n",
            "Epoch 90/100\n",
            "484/484 [==============================] - 5s 9ms/step - loss: 1.2332 - accuracy: 0.7873\n",
            "Epoch 91/100\n",
            "484/484 [==============================] - 5s 10ms/step - loss: 1.2197 - accuracy: 0.7908\n",
            "Epoch 92/100\n",
            "484/484 [==============================] - 5s 10ms/step - loss: 1.2053 - accuracy: 0.7947\n",
            "Epoch 93/100\n",
            "484/484 [==============================] - 5s 10ms/step - loss: 1.2050 - accuracy: 0.7939\n",
            "Epoch 94/100\n",
            "484/484 [==============================] - 5s 10ms/step - loss: 1.1840 - accuracy: 0.7988\n",
            "Epoch 95/100\n",
            "484/484 [==============================] - 5s 10ms/step - loss: 1.1827 - accuracy: 0.7943\n",
            "Epoch 96/100\n",
            "484/484 [==============================] - 5s 10ms/step - loss: 1.1641 - accuracy: 0.8013\n",
            "Epoch 97/100\n",
            "484/484 [==============================] - 5s 10ms/step - loss: 1.1587 - accuracy: 0.8006\n",
            "Epoch 98/100\n",
            "484/484 [==============================] - 5s 10ms/step - loss: 1.1538 - accuracy: 0.8018\n",
            "Epoch 99/100\n",
            "484/484 [==============================] - 5s 10ms/step - loss: 1.1216 - accuracy: 0.8084\n",
            "Epoch 100/100\n",
            "484/484 [==============================] - 5s 10ms/step - loss: 1.1348 - accuracy: 0.8044\n"
          ]
        }
      ]
    },
    {
      "cell_type": "code",
      "metadata": {
        "colab": {
          "base_uri": "https://localhost:8080/",
          "height": 545
        },
        "id": "UsFBgFKloiMJ",
        "outputId": "6bd6a077-4071-4bbc-d491-720a0af3fb8f"
      },
      "source": [
        "import matplotlib.pyplot as plt\n",
        "acc = history.history['accuracy']\n",
        "loss = history.history['loss']\n",
        "\n",
        "epochs = range(len(acc))\n",
        "\n",
        "plt.plot(epochs, acc, 'b', label='Training accuracy')\n",
        "plt.title('Training accuracy')\n",
        "\n",
        "plt.figure()\n",
        "\n",
        "plt.plot(epochs, loss, 'b', label='Training Loss')\n",
        "plt.title('Training loss')\n",
        "plt.legend()\n",
        "\n",
        "plt.show()"
      ],
      "execution_count": 5,
      "outputs": [
        {
          "output_type": "display_data",
          "data": {
            "text/plain": [
              "<Figure size 432x288 with 1 Axes>"
            ],
            "image/png": "[encoded data removed]"
          },
          "metadata": {
            "needs_background": "light"
          }
        },
        {
          "output_type": "display_data",
          "data": {
            "text/plain": [
              "<Figure size 432x288 with 1 Axes>"
            ],
            "image/png": "[encoded data removed]"
          },
          "metadata": {
            "needs_background": "light"
          }
        }
      ]
    },
    {
      "cell_type": "code",
      "metadata": {
        "colab": {
          "base_uri": "https://localhost:8080/"
        },
        "id": "wOFHMdLjomU_",
        "outputId": "9d079a96-39a0-4499-85fb-bebcc3ae0c7e"
      },
      "source": [
        "seed_text = \"Help me Obi Wan Kenobi, you're my only hope\"\n",
        "next_words = 100\n",
        "  \n",
        "for _ in range(next_words):\n",
        "\ttoken_list = tokenizer.texts_to_sequences([seed_text])[0]\n",
        "\ttoken_list = pad_sequences([token_list], maxlen=max_sequence_len-1, padding='pre')\n",
        "\tpredict_x = model.predict(token_list) \n",
        "\tpredicted = np.argmax(predict_x,axis=1)\n",
        "  #predicted = model.predict_classes(token_list, verbose=0)\n",
        "\toutput_word = \"\"\n",
        "\tfor word, index in tokenizer.word_index.items():\n",
        "\t\tif index == predicted:\n",
        "\t\t\toutput_word = word\n",
        "\t\t\tbreak\n",
        "\tseed_text += \" \" + output_word\n",
        "print(seed_text)"
      ],
      "execution_count": 8,
      "outputs": [
        {
          "output_type": "stream",
          "name": "stdout",
          "text": [
            "Help me Obi Wan Kenobi, you're my only hope wilt thou art bright true strife play make dwell them but gives good hate spent pride ' did change ' give me tend light ill pride life bearing be loss my deeds to despise assure another ill well still repair die bright wrong report gone bright glory bright life back go or well smells hate night dear wrong age can bevel date part seem die live good leaves leaves o'er make pleasure part back leaves leaves had clearer light warm'd dyed warm'd skill tongue clearer light light light stand days go wide child did bright clearer light grow mad held\n"
          ]
        }
      ]
    },
    {
      "cell_type": "code",
      "source": [
        ""
      ],
      "metadata": {
        "id": "pTpGjSHqGdjM"
      },
      "execution_count": null,
      "outputs": []
    },
    {
      "cell_type": "code",
      "metadata": {
        "colab": {
          "base_uri": "https://localhost:8080/"
        },
        "outputId": "8950762f-896d-4cd6-ccb8-915c331fce94",
        "id": "rrgH2q01Gdx0"
      },
      "source": [
        "model = Sequential()\n",
        "model.add(Embedding(total_words, 100, input_length=max_sequence_len-1))\n",
        "model.add(Bidirectional(GRU(150, return_sequences = True)))\n",
        "model.add(Dropout(0.2))\n",
        "model.add(GRU(100))\n",
        "model.add(Dense(total_words/2, activation='relu', kernel_regularizer=regularizers.l2(0.01)))\n",
        "model.add(Dense(total_words, activation='softmax'))\n",
        "model.compile(loss='categorical_crossentropy', optimizer='adam', metrics=['accuracy'])\n",
        "print(model.summary())"
      ],
      "execution_count": 11,
      "outputs": [
        {
          "output_type": "stream",
          "name": "stdout",
          "text": [
            "Model: \"sequential_2\"\n",
            "_________________________________________________________________\n",
            " Layer (type)                Output Shape              Param #   \n",
            "=================================================================\n",
            " embedding_2 (Embedding)     (None, 10, 100)           321100    \n",
            "                                                                 \n",
            " bidirectional_1 (Bidirectio  (None, 10, 300)          226800    \n",
            " nal)                                                            \n",
            "                                                                 \n",
            " dropout_1 (Dropout)         (None, 10, 300)           0         \n",
            "                                                                 \n",
            " gru_1 (GRU)                 (None, 100)               120600    \n",
            "                                                                 \n",
            " dense_2 (Dense)             (None, 1605)              162105    \n",
            "                                                                 \n",
            " dense_3 (Dense)             (None, 3211)              5156866   \n",
            "                                                                 \n",
            "=================================================================\n",
            "Total params: 5,987,471\n",
            "Trainable params: 5,987,471\n",
            "Non-trainable params: 0\n",
            "_________________________________________________________________\n",
            "None\n"
          ]
        }
      ]
    },
    {
      "cell_type": "code",
      "metadata": {
        "colab": {
          "base_uri": "https://localhost:8080/"
        },
        "outputId": "05b5ce05-656d-4486-dfd2-5f98e1fd57ed",
        "id": "lSwn6VhjGdx3"
      },
      "source": [
        " history = model.fit(predictors, label, epochs=100, verbose=1)"
      ],
      "execution_count": 12,
      "outputs": [
        {
          "output_type": "stream",
          "name": "stdout",
          "text": [
            "Epoch 1/100\n",
            "484/484 [==============================] - 8s 9ms/step - loss: 6.9079 - accuracy: 0.0228\n",
            "Epoch 2/100\n",
            "484/484 [==============================] - 4s 9ms/step - loss: 6.4848 - accuracy: 0.0226\n",
            "Epoch 3/100\n",
            "484/484 [==============================] - 4s 9ms/step - loss: 6.3351 - accuracy: 0.0323\n",
            "Epoch 4/100\n",
            "484/484 [==============================] - 4s 9ms/step - loss: 6.1800 - accuracy: 0.0382\n",
            "Epoch 5/100\n",
            "484/484 [==============================] - 4s 9ms/step - loss: 6.0326 - accuracy: 0.0435\n",
            "Epoch 6/100\n",
            "484/484 [==============================] - 4s 9ms/step - loss: 5.8864 - accuracy: 0.0514\n",
            "Epoch 7/100\n",
            "484/484 [==============================] - 4s 9ms/step - loss: 5.7333 - accuracy: 0.0600\n",
            "Epoch 8/100\n",
            "484/484 [==============================] - 5s 10ms/step - loss: 5.5879 - accuracy: 0.0701\n",
            "Epoch 9/100\n",
            "484/484 [==============================] - 4s 9ms/step - loss: 5.4394 - accuracy: 0.0768\n",
            "Epoch 10/100\n",
            "484/484 [==============================] - 4s 9ms/step - loss: 5.2883 - accuracy: 0.0867\n",
            "Epoch 11/100\n",
            "484/484 [==============================] - 4s 9ms/step - loss: 5.1369 - accuracy: 0.1011\n",
            "Epoch 12/100\n",
            "484/484 [==============================] - 4s 9ms/step - loss: 4.9927 - accuracy: 0.1105\n",
            "Epoch 13/100\n",
            "484/484 [==============================] - 4s 9ms/step - loss: 4.8409 - accuracy: 0.1215\n",
            "Epoch 14/100\n",
            "484/484 [==============================] - 4s 9ms/step - loss: 4.7026 - accuracy: 0.1355\n",
            "Epoch 15/100\n",
            "484/484 [==============================] - 4s 9ms/step - loss: 4.5569 - accuracy: 0.1466\n",
            "Epoch 16/100\n",
            "484/484 [==============================] - 4s 9ms/step - loss: 4.4194 - accuracy: 0.1605\n",
            "Epoch 17/100\n",
            "484/484 [==============================] - 5s 9ms/step - loss: 4.2775 - accuracy: 0.1793\n",
            "Epoch 18/100\n",
            "484/484 [==============================] - 4s 9ms/step - loss: 4.1462 - accuracy: 0.1925\n",
            "Epoch 19/100\n",
            "484/484 [==============================] - 4s 9ms/step - loss: 4.0059 - accuracy: 0.2039\n",
            "Epoch 20/100\n",
            "484/484 [==============================] - 4s 9ms/step - loss: 3.8674 - accuracy: 0.2313\n",
            "Epoch 21/100\n",
            "484/484 [==============================] - 4s 9ms/step - loss: 3.7407 - accuracy: 0.2491\n",
            "Epoch 22/100\n",
            "484/484 [==============================] - 4s 9ms/step - loss: 3.6108 - accuracy: 0.2768\n",
            "Epoch 23/100\n",
            "484/484 [==============================] - 4s 9ms/step - loss: 3.4854 - accuracy: 0.3022\n",
            "Epoch 24/100\n",
            "484/484 [==============================] - 4s 9ms/step - loss: 3.3621 - accuracy: 0.3274\n",
            "Epoch 25/100\n",
            "484/484 [==============================] - 4s 9ms/step - loss: 3.2578 - accuracy: 0.3500\n",
            "Epoch 26/100\n",
            "484/484 [==============================] - 4s 9ms/step - loss: 3.1524 - accuracy: 0.3709\n",
            "Epoch 27/100\n",
            "484/484 [==============================] - 4s 9ms/step - loss: 3.0413 - accuracy: 0.3990\n",
            "Epoch 28/100\n",
            "484/484 [==============================] - 4s 9ms/step - loss: 2.9472 - accuracy: 0.4228\n",
            "Epoch 29/100\n",
            "484/484 [==============================] - 4s 9ms/step - loss: 2.8585 - accuracy: 0.4378\n",
            "Epoch 30/100\n",
            "484/484 [==============================] - 4s 9ms/step - loss: 2.7653 - accuracy: 0.4600\n",
            "Epoch 31/100\n",
            "484/484 [==============================] - 4s 9ms/step - loss: 2.6898 - accuracy: 0.4774\n",
            "Epoch 32/100\n",
            "484/484 [==============================] - 4s 9ms/step - loss: 2.6092 - accuracy: 0.4902\n",
            "Epoch 33/100\n",
            "484/484 [==============================] - 4s 9ms/step - loss: 2.5407 - accuracy: 0.5044\n",
            "Epoch 34/100\n",
            "484/484 [==============================] - 4s 9ms/step - loss: 2.4559 - accuracy: 0.5269\n",
            "Epoch 35/100\n",
            "484/484 [==============================] - 4s 9ms/step - loss: 2.4001 - accuracy: 0.5382\n",
            "Epoch 36/100\n",
            "484/484 [==============================] - 4s 9ms/step - loss: 2.3402 - accuracy: 0.5473\n",
            "Epoch 37/100\n",
            "484/484 [==============================] - 5s 10ms/step - loss: 2.2794 - accuracy: 0.5669\n",
            "Epoch 38/100\n",
            "484/484 [==============================] - 4s 9ms/step - loss: 2.2153 - accuracy: 0.5797\n",
            "Epoch 39/100\n",
            "484/484 [==============================] - 4s 9ms/step - loss: 2.1680 - accuracy: 0.5871\n",
            "Epoch 40/100\n",
            "484/484 [==============================] - 4s 9ms/step - loss: 2.1189 - accuracy: 0.6020\n",
            "Epoch 41/100\n",
            "484/484 [==============================] - 4s 9ms/step - loss: 2.0680 - accuracy: 0.6106\n",
            "Epoch 42/100\n",
            "484/484 [==============================] - 4s 9ms/step - loss: 2.0240 - accuracy: 0.6209\n",
            "Epoch 43/100\n",
            "484/484 [==============================] - 4s 9ms/step - loss: 1.9781 - accuracy: 0.6292\n",
            "Epoch 44/100\n",
            "484/484 [==============================] - 4s 9ms/step - loss: 1.9376 - accuracy: 0.6381\n",
            "Epoch 45/100\n",
            "484/484 [==============================] - 5s 9ms/step - loss: 1.9027 - accuracy: 0.6480\n",
            "Epoch 46/100\n",
            "484/484 [==============================] - 4s 9ms/step - loss: 1.8601 - accuracy: 0.6566\n",
            "Epoch 47/100\n",
            "484/484 [==============================] - 4s 9ms/step - loss: 1.8219 - accuracy: 0.6643\n",
            "Epoch 48/100\n",
            "484/484 [==============================] - 4s 9ms/step - loss: 1.7726 - accuracy: 0.6806\n",
            "Epoch 49/100\n",
            "484/484 [==============================] - 4s 9ms/step - loss: 1.7603 - accuracy: 0.6806\n",
            "Epoch 50/100\n",
            "484/484 [==============================] - 4s 9ms/step - loss: 1.7321 - accuracy: 0.6881\n",
            "Epoch 51/100\n",
            "484/484 [==============================] - 4s 9ms/step - loss: 1.6938 - accuracy: 0.6892\n",
            "Epoch 52/100\n",
            "484/484 [==============================] - 4s 9ms/step - loss: 1.6589 - accuracy: 0.6996\n",
            "Epoch 53/100\n",
            "484/484 [==============================] - 4s 9ms/step - loss: 1.6340 - accuracy: 0.7040\n",
            "Epoch 54/100\n",
            "484/484 [==============================] - 4s 9ms/step - loss: 1.6013 - accuracy: 0.7129\n",
            "Epoch 55/100\n",
            "484/484 [==============================] - 4s 9ms/step - loss: 1.5871 - accuracy: 0.7104\n",
            "Epoch 56/100\n",
            "484/484 [==============================] - 4s 9ms/step - loss: 1.5489 - accuracy: 0.7203\n",
            "Epoch 57/100\n",
            "484/484 [==============================] - 4s 9ms/step - loss: 1.5257 - accuracy: 0.7248\n",
            "Epoch 58/100\n",
            "484/484 [==============================] - 4s 9ms/step - loss: 1.5099 - accuracy: 0.7303\n",
            "Epoch 59/100\n",
            "484/484 [==============================] - 4s 9ms/step - loss: 1.4848 - accuracy: 0.7333\n",
            "Epoch 60/100\n",
            "484/484 [==============================] - 4s 9ms/step - loss: 1.4794 - accuracy: 0.7324\n",
            "Epoch 61/100\n",
            "484/484 [==============================] - 4s 9ms/step - loss: 1.4594 - accuracy: 0.7370\n",
            "Epoch 62/100\n",
            "484/484 [==============================] - 4s 9ms/step - loss: 1.4396 - accuracy: 0.7414\n",
            "Epoch 63/100\n",
            "484/484 [==============================] - 4s 9ms/step - loss: 1.4092 - accuracy: 0.7465\n",
            "Epoch 64/100\n",
            "484/484 [==============================] - 4s 9ms/step - loss: 1.3884 - accuracy: 0.7518\n",
            "Epoch 65/100\n",
            "484/484 [==============================] - 4s 9ms/step - loss: 1.3703 - accuracy: 0.7546\n",
            "Epoch 66/100\n",
            "484/484 [==============================] - 4s 9ms/step - loss: 1.3657 - accuracy: 0.7562\n",
            "Epoch 67/100\n",
            "484/484 [==============================] - 4s 9ms/step - loss: 1.3402 - accuracy: 0.7637\n",
            "Epoch 68/100\n",
            "484/484 [==============================] - 4s 9ms/step - loss: 1.3363 - accuracy: 0.7588\n",
            "Epoch 69/100\n",
            "484/484 [==============================] - 4s 9ms/step - loss: 1.3169 - accuracy: 0.7648\n",
            "Epoch 70/100\n",
            "484/484 [==============================] - 4s 9ms/step - loss: 1.3053 - accuracy: 0.7677\n",
            "Epoch 71/100\n",
            "484/484 [==============================] - 4s 9ms/step - loss: 1.2851 - accuracy: 0.7713\n",
            "Epoch 72/100\n",
            "484/484 [==============================] - 4s 9ms/step - loss: 1.2722 - accuracy: 0.7708\n",
            "Epoch 73/100\n",
            "484/484 [==============================] - 4s 9ms/step - loss: 1.2626 - accuracy: 0.7745\n",
            "Epoch 74/100\n",
            "484/484 [==============================] - 5s 10ms/step - loss: 1.2539 - accuracy: 0.7757\n",
            "Epoch 75/100\n",
            "484/484 [==============================] - 4s 9ms/step - loss: 1.2452 - accuracy: 0.7764\n",
            "Epoch 76/100\n",
            "484/484 [==============================] - 4s 9ms/step - loss: 1.2370 - accuracy: 0.7792\n",
            "Epoch 77/100\n",
            "484/484 [==============================] - 4s 9ms/step - loss: 1.2172 - accuracy: 0.7820\n",
            "Epoch 78/100\n",
            "484/484 [==============================] - 4s 9ms/step - loss: 1.2069 - accuracy: 0.7843\n",
            "Epoch 79/100\n",
            "484/484 [==============================] - 4s 9ms/step - loss: 1.2002 - accuracy: 0.7824\n",
            "Epoch 80/100\n",
            "484/484 [==============================] - 4s 9ms/step - loss: 1.1923 - accuracy: 0.7874\n",
            "Epoch 81/100\n",
            "484/484 [==============================] - 4s 9ms/step - loss: 1.1817 - accuracy: 0.7860\n",
            "Epoch 82/100\n",
            "484/484 [==============================] - 4s 9ms/step - loss: 1.1663 - accuracy: 0.7894\n",
            "Epoch 83/100\n",
            "484/484 [==============================] - 4s 9ms/step - loss: 1.1616 - accuracy: 0.7908\n",
            "Epoch 84/100\n",
            "484/484 [==============================] - 4s 9ms/step - loss: 1.1674 - accuracy: 0.7896\n",
            "Epoch 85/100\n",
            "484/484 [==============================] - 4s 9ms/step - loss: 1.1457 - accuracy: 0.7914\n",
            "Epoch 86/100\n",
            "484/484 [==============================] - 4s 9ms/step - loss: 1.1275 - accuracy: 0.7965\n",
            "Epoch 87/100\n",
            "484/484 [==============================] - 5s 9ms/step - loss: 1.1381 - accuracy: 0.7951\n",
            "Epoch 88/100\n",
            "484/484 [==============================] - 4s 9ms/step - loss: 1.1270 - accuracy: 0.7952\n",
            "Epoch 89/100\n",
            "484/484 [==============================] - 4s 9ms/step - loss: 1.1176 - accuracy: 0.7962\n",
            "Epoch 90/100\n",
            "484/484 [==============================] - 4s 9ms/step - loss: 1.1001 - accuracy: 0.8037\n",
            "Epoch 91/100\n",
            "484/484 [==============================] - 4s 9ms/step - loss: 1.1156 - accuracy: 0.7956\n",
            "Epoch 92/100\n",
            "484/484 [==============================] - 4s 9ms/step - loss: 1.1163 - accuracy: 0.7971\n",
            "Epoch 93/100\n",
            "484/484 [==============================] - 4s 9ms/step - loss: 1.0998 - accuracy: 0.7957\n",
            "Epoch 94/100\n",
            "484/484 [==============================] - 4s 9ms/step - loss: 1.0870 - accuracy: 0.8032\n",
            "Epoch 95/100\n",
            "484/484 [==============================] - 4s 9ms/step - loss: 1.0820 - accuracy: 0.8055\n",
            "Epoch 96/100\n",
            "484/484 [==============================] - 4s 9ms/step - loss: 1.0720 - accuracy: 0.8028\n",
            "Epoch 97/100\n",
            "484/484 [==============================] - 4s 9ms/step - loss: 1.0696 - accuracy: 0.8013\n",
            "Epoch 98/100\n",
            "484/484 [==============================] - 4s 9ms/step - loss: 1.0603 - accuracy: 0.8029\n",
            "Epoch 99/100\n",
            "484/484 [==============================] - 4s 9ms/step - loss: 1.0680 - accuracy: 0.7999\n",
            "Epoch 100/100\n",
            "484/484 [==============================] - 4s 9ms/step - loss: 1.0482 - accuracy: 0.8063\n"
          ]
        }
      ]
    },
    {
      "cell_type": "code",
      "metadata": {
        "colab": {
          "base_uri": "https://localhost:8080/",
          "height": 545
        },
        "outputId": "33a4aa35-b6a5-4afd-f003-cecefaecadf0",
        "id": "qONOI1NnGdx3"
      },
      "source": [
        "import matplotlib.pyplot as plt\n",
        "acc = history.history['accuracy']\n",
        "loss = history.history['loss']\n",
        "\n",
        "epochs = range(len(acc))\n",
        "\n",
        "plt.plot(epochs, acc, 'b', label='Training accuracy')\n",
        "plt.title('Training accuracy')\n",
        "\n",
        "plt.figure()\n",
        "\n",
        "plt.plot(epochs, loss, 'b', label='Training Loss')\n",
        "plt.title('Training loss')\n",
        "plt.legend()\n",
        "\n",
        "plt.show()"
      ],
      "execution_count": 13,
      "outputs": [
        {
          "output_type": "display_data",
          "data": {
            "text/plain": [
              "<Figure size 432x288 with 1 Axes>"
            ],
            "image/png": "[encoded data removed]"
          },
          "metadata": {
            "needs_background": "light"
          }
        },
        {
          "output_type": "display_data",
          "data": {
            "text/plain": [
              "<Figure size 432x288 with 1 Axes>"
            ],
            "image/png": "[encoded data removed]"
          },
          "metadata": {
            "needs_background": "light"
          }
        }
      ]
    },
    {
      "cell_type": "code",
      "metadata": {
        "colab": {
          "base_uri": "https://localhost:8080/"
        },
        "outputId": "0aaff176-9994-4a70-d2d7-bc444fab61f9",
        "id": "UCNTRHYlGdx4"
      },
      "source": [
        "seed_text = \"Help me Obi Wan Kenobi, you're my only hope\"\n",
        "next_words = 100\n",
        "  \n",
        "for _ in range(next_words):\n",
        "\ttoken_list = tokenizer.texts_to_sequences([seed_text])[0]\n",
        "\ttoken_list = pad_sequences([token_list], maxlen=max_sequence_len-1, padding='pre')\n",
        "\tpredict_x = model.predict(token_list) \n",
        "\tpredicted = np.argmax(predict_x,axis=1)\n",
        "\toutput_word = \"\"\n",
        "\tfor word, index in tokenizer.word_index.items():\n",
        "\t\tif index == predicted:\n",
        "\t\t\toutput_word = word\n",
        "\t\t\tbreak\n",
        "\tseed_text += \" \" + output_word\n",
        "print(seed_text)"
      ],
      "execution_count": 15,
      "outputs": [
        {
          "output_type": "stream",
          "name": "stdout",
          "text": [
            "Help me Obi Wan Kenobi, you're my only hope that must my friend ' being near another way place true face not told but more had live and less by thine eye master open doth look into my deeds with youth her delight than hot time's glory did stand when her dear been receives mute doth spend sit sit sit grow mad 'tis now but thee twain dyed light confounds him when heaven's sun infection commits days confounds down her blot her true stain when heaven's hot waste nor dun open cold did give down on store within away and hot store her hate' her blot the heaven or\n"
          ]
        }
      ]
    }
  ]
}