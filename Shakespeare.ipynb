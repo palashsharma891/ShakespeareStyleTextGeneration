{
  "nbformat": 4,
  "nbformat_minor": 0,
  "metadata": {
    "colab": {
      "name": "Untitled3.ipynb",
      "provenance": [],
      "authorship_tag": "ABX9TyNHEjXx812J9F1f8DFCc0Yh",
      "include_colab_link": true
    },
    "kernelspec": {
      "name": "python3",
      "display_name": "Python 3"
    },
    "accelerator": "GPU"
  },
  "cells": [
    {
      "cell_type": "markdown",
      "metadata": {
        "id": "view-in-github",
        "colab_type": "text"
      },
      "source": [
        "<a href=\"https://colab.research.google.com/github/palashsharma891/ShakespeareStyleTextGeneration/blob/main/Shakespeare.ipynb\" target=\"_parent\"><img src=\"https://colab.research.google.com/assets/colab-badge.svg\" alt=\"Open In Colab\"/></a>"
      ]
    },
    {
      "cell_type": "code",
      "metadata": {
        "id": "jyDoO64qoTz-"
      },
      "source": [
        "from tensorflow.keras.preprocessing.sequence import pad_sequences\n",
        "from tensorflow.keras.layers import Embedding, LSTM, Dense, Dropout, Bidirectional\n",
        "from tensorflow.keras.preprocessing.text import Tokenizer\n",
        "from tensorflow.keras.models import Sequential\n",
        "from tensorflow.keras.optimizers import Adam\n",
        "from tensorflow.keras import regularizers\n",
        "import tensorflow.keras.utils as ku \n",
        "import numpy as np "
      ],
      "execution_count": 1,
      "outputs": []
    },
    {
      "cell_type": "code",
      "metadata": {
        "colab": {
          "base_uri": "https://localhost:8080/"
        },
        "id": "4EuHkTH8oVjF",
        "outputId": "836181ea-bace-4421-ba92-5840ac7c63de"
      },
      "source": [
        "tokenizer = Tokenizer()\n",
        "!wget --no-check-certificate \\\n",
        "    https://storage.googleapis.com/laurencemoroney-blog.appspot.com/sonnets.txt \\\n",
        "    -O /tmp/sonnets.txt\n",
        "data = open('/tmp/sonnets.txt').read()\n",
        "\n",
        "corpus = data.lower().split(\"\\n\")\n",
        "\n",
        "\n",
        "tokenizer.fit_on_texts(corpus)\n",
        "total_words = len(tokenizer.word_index) + 1\n",
        "\n",
        "# create input sequences using list of tokens\n",
        "input_sequences = []\n",
        "for line in corpus:\n",
        "\ttoken_list = tokenizer.texts_to_sequences([line])[0]\n",
        "\tfor i in range(1, len(token_list)):\n",
        "\t\tn_gram_sequence = token_list[:i+1]\n",
        "\t\tinput_sequences.append(n_gram_sequence)\n",
        "\n",
        "\n",
        "# pad sequences \n",
        "max_sequence_len = max([len(x) for x in input_sequences])\n",
        "input_sequences = np.array(pad_sequences(input_sequences, maxlen=max_sequence_len, padding='pre'))\n",
        "\n",
        "# create predictors and label\n",
        "predictors, label = input_sequences[:,:-1],input_sequences[:,-1]\n",
        "\n",
        "label = ku.to_categorical(label, num_classes=total_words)"
      ],
      "execution_count": 2,
      "outputs": [
        {
          "output_type": "stream",
          "text": [
            "--2020-12-13 06:07:05--  https://storage.googleapis.com/laurencemoroney-blog.appspot.com/sonnets.txt\n",
            "Resolving storage.googleapis.com (storage.googleapis.com)... 172.253.122.128, 142.250.31.128, 172.217.5.240, ...\n",
            "Connecting to storage.googleapis.com (storage.googleapis.com)|172.253.122.128|:443... connected.\n",
            "HTTP request sent, awaiting response... 200 OK\n",
            "Length: 93578 (91K) [text/plain]\n",
            "Saving to: ‘/tmp/sonnets.txt’\n",
            "\n",
            "\r/tmp/sonnets.txt      0%[                    ]       0  --.-KB/s               \r/tmp/sonnets.txt    100%[===================>]  91.38K  --.-KB/s    in 0.001s  \n",
            "\n",
            "2020-12-13 06:07:05 (138 MB/s) - ‘/tmp/sonnets.txt’ saved [93578/93578]\n",
            "\n"
          ],
          "name": "stdout"
        }
      ]
    },
    {
      "cell_type": "code",
      "metadata": {
        "colab": {
          "base_uri": "https://localhost:8080/"
        },
        "id": "WNJ9oef3obfa",
        "outputId": "5624f942-c30f-4dde-d4b2-5c9ecfb6f5fe"
      },
      "source": [
        "model = Sequential()\n",
        "model.add(Embedding(total_words, 100, input_length=max_sequence_len-1))\n",
        "model.add(Bidirectional(LSTM(150, return_sequences = True)))\n",
        "model.add(Dropout(0.2))\n",
        "model.add(LSTM(100))\n",
        "model.add(Dense(total_words/2, activation='relu', kernel_regularizer=regularizers.l2(0.01)))\n",
        "model.add(Dense(total_words, activation='softmax'))\n",
        "model.compile(loss='categorical_crossentropy', optimizer='adam', metrics=['accuracy'])\n",
        "print(model.summary())"
      ],
      "execution_count": 3,
      "outputs": [
        {
          "output_type": "stream",
          "text": [
            "Model: \"sequential\"\n",
            "_________________________________________________________________\n",
            "Layer (type)                 Output Shape              Param #   \n",
            "=================================================================\n",
            "embedding (Embedding)        (None, 10, 100)           321100    \n",
            "_________________________________________________________________\n",
            "bidirectional (Bidirectional (None, 10, 300)           301200    \n",
            "_________________________________________________________________\n",
            "dropout (Dropout)            (None, 10, 300)           0         \n",
            "_________________________________________________________________\n",
            "lstm_1 (LSTM)                (None, 100)               160400    \n",
            "_________________________________________________________________\n",
            "dense (Dense)                (None, 1605)              162105    \n",
            "_________________________________________________________________\n",
            "dense_1 (Dense)              (None, 3211)              5156866   \n",
            "=================================================================\n",
            "Total params: 6,101,671\n",
            "Trainable params: 6,101,671\n",
            "Non-trainable params: 0\n",
            "_________________________________________________________________\n",
            "None\n"
          ],
          "name": "stdout"
        }
      ]
    },
    {
      "cell_type": "code",
      "metadata": {
        "colab": {
          "base_uri": "https://localhost:8080/"
        },
        "id": "GjjQPxLgofWQ",
        "outputId": "bbb62dd1-2736-498d-a7ba-de84d3acab5d"
      },
      "source": [
        " history = model.fit(predictors, label, epochs=100, verbose=1)"
      ],
      "execution_count": 4,
      "outputs": [
        {
          "output_type": "stream",
          "text": [
            "Epoch 1/100\n",
            "484/484 [==============================] - 5s 11ms/step - loss: 6.9059 - accuracy: 0.0218\n",
            "Epoch 2/100\n",
            "484/484 [==============================] - 5s 11ms/step - loss: 6.5007 - accuracy: 0.0202\n",
            "Epoch 3/100\n",
            "484/484 [==============================] - 5s 10ms/step - loss: 6.4064 - accuracy: 0.0235\n",
            "Epoch 4/100\n",
            "484/484 [==============================] - 5s 10ms/step - loss: 6.2882 - accuracy: 0.0300\n",
            "Epoch 5/100\n",
            "484/484 [==============================] - 5s 10ms/step - loss: 6.1876 - accuracy: 0.0354\n",
            "Epoch 6/100\n",
            "484/484 [==============================] - 5s 11ms/step - loss: 6.1017 - accuracy: 0.0395\n",
            "Epoch 7/100\n",
            "484/484 [==============================] - 5s 10ms/step - loss: 6.0237 - accuracy: 0.0414\n",
            "Epoch 8/100\n",
            "484/484 [==============================] - 5s 10ms/step - loss: 5.9365 - accuracy: 0.0437\n",
            "Epoch 9/100\n",
            "484/484 [==============================] - 5s 10ms/step - loss: 5.8369 - accuracy: 0.0494\n",
            "Epoch 10/100\n",
            "484/484 [==============================] - 5s 10ms/step - loss: 5.7295 - accuracy: 0.0582\n",
            "Epoch 11/100\n",
            "484/484 [==============================] - 5s 10ms/step - loss: 5.6210 - accuracy: 0.0623\n",
            "Epoch 12/100\n",
            "484/484 [==============================] - 5s 10ms/step - loss: 5.5152 - accuracy: 0.0700\n",
            "Epoch 13/100\n",
            "484/484 [==============================] - 5s 10ms/step - loss: 5.4078 - accuracy: 0.0766\n",
            "Epoch 14/100\n",
            "484/484 [==============================] - 5s 10ms/step - loss: 5.2948 - accuracy: 0.0816\n",
            "Epoch 15/100\n",
            "484/484 [==============================] - 5s 10ms/step - loss: 5.1834 - accuracy: 0.0894\n",
            "Epoch 16/100\n",
            "484/484 [==============================] - 5s 10ms/step - loss: 5.0692 - accuracy: 0.0993\n",
            "Epoch 17/100\n",
            "484/484 [==============================] - 5s 10ms/step - loss: 4.9631 - accuracy: 0.1061\n",
            "Epoch 18/100\n",
            "484/484 [==============================] - 5s 10ms/step - loss: 4.8559 - accuracy: 0.1154\n",
            "Epoch 19/100\n",
            "484/484 [==============================] - 5s 10ms/step - loss: 4.7555 - accuracy: 0.1238\n",
            "Epoch 20/100\n",
            "484/484 [==============================] - 5s 10ms/step - loss: 4.6508 - accuracy: 0.1345\n",
            "Epoch 21/100\n",
            "484/484 [==============================] - 5s 10ms/step - loss: 4.5407 - accuracy: 0.1468\n",
            "Epoch 22/100\n",
            "484/484 [==============================] - 5s 10ms/step - loss: 4.4400 - accuracy: 0.1573\n",
            "Epoch 23/100\n",
            "484/484 [==============================] - 5s 10ms/step - loss: 4.3310 - accuracy: 0.1693\n",
            "Epoch 24/100\n",
            "484/484 [==============================] - 5s 10ms/step - loss: 4.2332 - accuracy: 0.1791\n",
            "Epoch 25/100\n",
            "484/484 [==============================] - 5s 10ms/step - loss: 4.1385 - accuracy: 0.1934\n",
            "Epoch 26/100\n",
            "484/484 [==============================] - 5s 10ms/step - loss: 4.0331 - accuracy: 0.2068\n",
            "Epoch 27/100\n",
            "484/484 [==============================] - 5s 10ms/step - loss: 3.9294 - accuracy: 0.2189\n",
            "Epoch 28/100\n",
            "484/484 [==============================] - 5s 10ms/step - loss: 3.8310 - accuracy: 0.2385\n",
            "Epoch 29/100\n",
            "484/484 [==============================] - 5s 10ms/step - loss: 3.7359 - accuracy: 0.2538\n",
            "Epoch 30/100\n",
            "484/484 [==============================] - 5s 10ms/step - loss: 3.6385 - accuracy: 0.2711\n",
            "Epoch 31/100\n",
            "484/484 [==============================] - 5s 10ms/step - loss: 3.5434 - accuracy: 0.2898\n",
            "Epoch 32/100\n",
            "484/484 [==============================] - 5s 10ms/step - loss: 3.4513 - accuracy: 0.3108\n",
            "Epoch 33/100\n",
            "484/484 [==============================] - 5s 10ms/step - loss: 3.3650 - accuracy: 0.3308\n",
            "Epoch 34/100\n",
            "484/484 [==============================] - 5s 10ms/step - loss: 3.2811 - accuracy: 0.3406\n",
            "Epoch 35/100\n",
            "484/484 [==============================] - 5s 10ms/step - loss: 3.2107 - accuracy: 0.3588\n",
            "Epoch 36/100\n",
            "484/484 [==============================] - 5s 10ms/step - loss: 3.1244 - accuracy: 0.3792\n",
            "Epoch 37/100\n",
            "484/484 [==============================] - 5s 10ms/step - loss: 3.0431 - accuracy: 0.3989\n",
            "Epoch 38/100\n",
            "484/484 [==============================] - 5s 10ms/step - loss: 2.9692 - accuracy: 0.4144\n",
            "Epoch 39/100\n",
            "484/484 [==============================] - 5s 10ms/step - loss: 2.9042 - accuracy: 0.4294\n",
            "Epoch 40/100\n",
            "484/484 [==============================] - 5s 10ms/step - loss: 2.8344 - accuracy: 0.4497\n",
            "Epoch 41/100\n",
            "484/484 [==============================] - 5s 10ms/step - loss: 2.7595 - accuracy: 0.4671\n",
            "Epoch 42/100\n",
            "484/484 [==============================] - 5s 10ms/step - loss: 2.6950 - accuracy: 0.4800\n",
            "Epoch 43/100\n",
            "484/484 [==============================] - 5s 10ms/step - loss: 2.6407 - accuracy: 0.4920\n",
            "Epoch 44/100\n",
            "484/484 [==============================] - 5s 10ms/step - loss: 2.5846 - accuracy: 0.5027\n",
            "Epoch 45/100\n",
            "484/484 [==============================] - 5s 10ms/step - loss: 2.5250 - accuracy: 0.5155\n",
            "Epoch 46/100\n",
            "484/484 [==============================] - 5s 10ms/step - loss: 2.4609 - accuracy: 0.5327\n",
            "Epoch 47/100\n",
            "484/484 [==============================] - 5s 10ms/step - loss: 2.4210 - accuracy: 0.5404\n",
            "Epoch 48/100\n",
            "484/484 [==============================] - 5s 10ms/step - loss: 2.3643 - accuracy: 0.5524\n",
            "Epoch 49/100\n",
            "484/484 [==============================] - 5s 10ms/step - loss: 2.3221 - accuracy: 0.5597\n",
            "Epoch 50/100\n",
            "484/484 [==============================] - 5s 10ms/step - loss: 2.2552 - accuracy: 0.5772\n",
            "Epoch 51/100\n",
            "484/484 [==============================] - 5s 10ms/step - loss: 2.2190 - accuracy: 0.5843\n",
            "Epoch 52/100\n",
            "484/484 [==============================] - 5s 10ms/step - loss: 2.1621 - accuracy: 0.6000\n",
            "Epoch 53/100\n",
            "484/484 [==============================] - 5s 10ms/step - loss: 2.1191 - accuracy: 0.6088\n",
            "Epoch 54/100\n",
            "484/484 [==============================] - 5s 10ms/step - loss: 2.0838 - accuracy: 0.6142\n",
            "Epoch 55/100\n",
            "484/484 [==============================] - 5s 10ms/step - loss: 2.0471 - accuracy: 0.6232\n",
            "Epoch 56/100\n",
            "484/484 [==============================] - 5s 10ms/step - loss: 2.0006 - accuracy: 0.6343\n",
            "Epoch 57/100\n",
            "484/484 [==============================] - 5s 10ms/step - loss: 1.9645 - accuracy: 0.6388\n",
            "Epoch 58/100\n",
            "484/484 [==============================] - 5s 10ms/step - loss: 1.9239 - accuracy: 0.6532\n",
            "Epoch 59/100\n",
            "484/484 [==============================] - 5s 10ms/step - loss: 1.8945 - accuracy: 0.6588\n",
            "Epoch 60/100\n",
            "484/484 [==============================] - 5s 10ms/step - loss: 1.8619 - accuracy: 0.6638\n",
            "Epoch 61/100\n",
            "484/484 [==============================] - 5s 10ms/step - loss: 1.8381 - accuracy: 0.6700\n",
            "Epoch 62/100\n",
            "484/484 [==============================] - 5s 11ms/step - loss: 1.7956 - accuracy: 0.6806\n",
            "Epoch 63/100\n",
            "484/484 [==============================] - 5s 11ms/step - loss: 1.7794 - accuracy: 0.6820\n",
            "Epoch 64/100\n",
            "484/484 [==============================] - 5s 11ms/step - loss: 1.7357 - accuracy: 0.6907\n",
            "Epoch 65/100\n",
            "484/484 [==============================] - 5s 10ms/step - loss: 1.7004 - accuracy: 0.7009\n",
            "Epoch 66/100\n",
            "484/484 [==============================] - 5s 10ms/step - loss: 1.6802 - accuracy: 0.7045\n",
            "Epoch 67/100\n",
            "484/484 [==============================] - 5s 10ms/step - loss: 1.6452 - accuracy: 0.7093\n",
            "Epoch 68/100\n",
            "484/484 [==============================] - 5s 10ms/step - loss: 1.6189 - accuracy: 0.7147\n",
            "Epoch 69/100\n",
            "484/484 [==============================] - 5s 10ms/step - loss: 1.5959 - accuracy: 0.7186\n",
            "Epoch 70/100\n",
            "484/484 [==============================] - 5s 10ms/step - loss: 1.5851 - accuracy: 0.7191\n",
            "Epoch 71/100\n",
            "484/484 [==============================] - 5s 10ms/step - loss: 1.5515 - accuracy: 0.7264\n",
            "Epoch 72/100\n",
            "484/484 [==============================] - 5s 10ms/step - loss: 1.5335 - accuracy: 0.7344\n",
            "Epoch 73/100\n",
            "484/484 [==============================] - 5s 10ms/step - loss: 1.5162 - accuracy: 0.7368\n",
            "Epoch 74/100\n",
            "484/484 [==============================] - 5s 10ms/step - loss: 1.4933 - accuracy: 0.7403\n",
            "Epoch 75/100\n",
            "484/484 [==============================] - 5s 10ms/step - loss: 1.4641 - accuracy: 0.7479\n",
            "Epoch 76/100\n",
            "484/484 [==============================] - 5s 10ms/step - loss: 1.4633 - accuracy: 0.7458\n",
            "Epoch 77/100\n",
            "484/484 [==============================] - 5s 10ms/step - loss: 1.4386 - accuracy: 0.7504\n",
            "Epoch 78/100\n",
            "484/484 [==============================] - 5s 10ms/step - loss: 1.4131 - accuracy: 0.7545\n",
            "Epoch 79/100\n",
            "484/484 [==============================] - 5s 10ms/step - loss: 1.3876 - accuracy: 0.7592\n",
            "Epoch 80/100\n",
            "484/484 [==============================] - 5s 10ms/step - loss: 1.3768 - accuracy: 0.7631\n",
            "Epoch 81/100\n",
            "484/484 [==============================] - 5s 10ms/step - loss: 1.3656 - accuracy: 0.7639\n",
            "Epoch 82/100\n",
            "484/484 [==============================] - 5s 10ms/step - loss: 1.3538 - accuracy: 0.7663\n",
            "Epoch 83/100\n",
            "484/484 [==============================] - 5s 10ms/step - loss: 1.3322 - accuracy: 0.7703\n",
            "Epoch 84/100\n",
            "484/484 [==============================] - 5s 10ms/step - loss: 1.3209 - accuracy: 0.7720\n",
            "Epoch 85/100\n",
            "484/484 [==============================] - 5s 11ms/step - loss: 1.2893 - accuracy: 0.7804\n",
            "Epoch 86/100\n",
            "484/484 [==============================] - 5s 10ms/step - loss: 1.2778 - accuracy: 0.7791\n",
            "Epoch 87/100\n",
            "484/484 [==============================] - 5s 10ms/step - loss: 1.2696 - accuracy: 0.7827\n",
            "Epoch 88/100\n",
            "484/484 [==============================] - 5s 10ms/step - loss: 1.2733 - accuracy: 0.7789\n",
            "Epoch 89/100\n",
            "484/484 [==============================] - 5s 10ms/step - loss: 1.2653 - accuracy: 0.7790\n",
            "Epoch 90/100\n",
            "484/484 [==============================] - 5s 10ms/step - loss: 1.2552 - accuracy: 0.7779\n",
            "Epoch 91/100\n",
            "484/484 [==============================] - 5s 10ms/step - loss: 1.2274 - accuracy: 0.7889\n",
            "Epoch 92/100\n",
            "484/484 [==============================] - 5s 10ms/step - loss: 1.2180 - accuracy: 0.7900\n",
            "Epoch 93/100\n",
            "484/484 [==============================] - 5s 10ms/step - loss: 1.1981 - accuracy: 0.7932\n",
            "Epoch 94/100\n",
            "484/484 [==============================] - 5s 10ms/step - loss: 1.2108 - accuracy: 0.7872\n",
            "Epoch 95/100\n",
            "484/484 [==============================] - 5s 10ms/step - loss: 1.1742 - accuracy: 0.7999\n",
            "Epoch 96/100\n",
            "484/484 [==============================] - 5s 10ms/step - loss: 1.1602 - accuracy: 0.7995\n",
            "Epoch 97/100\n",
            "484/484 [==============================] - 5s 10ms/step - loss: 1.1545 - accuracy: 0.7988\n",
            "Epoch 98/100\n",
            "484/484 [==============================] - 5s 10ms/step - loss: 1.1588 - accuracy: 0.7971\n",
            "Epoch 99/100\n",
            "484/484 [==============================] - 5s 10ms/step - loss: 1.1315 - accuracy: 0.8047\n",
            "Epoch 100/100\n",
            "484/484 [==============================] - 5s 10ms/step - loss: 1.1271 - accuracy: 0.8031\n"
          ],
          "name": "stdout"
        }
      ]
    },
    {
      "cell_type": "code",
      "metadata": {
        "colab": {
          "base_uri": "https://localhost:8080/",
          "height": 545
        },
        "id": "UsFBgFKloiMJ",
        "outputId": "fa139575-4a3d-4d2e-bea2-f232051057e7"
      },
      "source": [
        "import matplotlib.pyplot as plt\n",
        "acc = history.history['accuracy']\n",
        "loss = history.history['loss']\n",
        "\n",
        "epochs = range(len(acc))\n",
        "\n",
        "plt.plot(epochs, acc, 'b', label='Training accuracy')\n",
        "plt.title('Training accuracy')\n",
        "\n",
        "plt.figure()\n",
        "\n",
        "plt.plot(epochs, loss, 'b', label='Training Loss')\n",
        "plt.title('Training loss')\n",
        "plt.legend()\n",
        "\n",
        "plt.show()"
      ],
      "execution_count": 5,
      "outputs": [
        {
          "output_type": "display_data",
          "data": {
            "image/png": "[encoded data removed]",
            "text/plain": [
              "<Figure size 432x288 with 1 Axes>"
            ]
          },
          "metadata": {
            "tags": [],
            "needs_background": "light"
          }
        },
        {
          "output_type": "display_data",
          "data": {
            "image/png": "[encoded data removed]",
            "text/plain": [
              "<Figure size 432x288 with 1 Axes>"
            ]
          },
          "metadata": {
            "tags": [],
            "needs_background": "light"
          }
        }
      ]
    },
    {
      "cell_type": "code",
      "metadata": {
        "colab": {
          "base_uri": "https://localhost:8080/"
        },
        "id": "wOFHMdLjomU_",
        "outputId": "083f8cf5-3e73-4a2a-fc4f-8d7eeb087192"
      },
      "source": [
        "seed_text = \"Help me Obi Wan Kenobi, you're my only hope\"\n",
        "next_words = 100\n",
        "  \n",
        "for _ in range(next_words):\n",
        "\ttoken_list = tokenizer.texts_to_sequences([seed_text])[0]\n",
        "\ttoken_list = pad_sequences([token_list], maxlen=max_sequence_len-1, padding='pre')\n",
        "\tpredicted = model.predict_classes(token_list, verbose=0)\n",
        "\toutput_word = \"\"\n",
        "\tfor word, index in tokenizer.word_index.items():\n",
        "\t\tif index == predicted:\n",
        "\t\t\toutput_word = word\n",
        "\t\t\tbreak\n",
        "\tseed_text += \" \" + output_word\n",
        "print(seed_text)"
      ],
      "execution_count": 6,
      "outputs": [
        {
          "output_type": "stream",
          "text": [
            "WARNING:tensorflow:From <ipython-input-6-622d307fa19a>:7: Sequential.predict_classes (from tensorflow.python.keras.engine.sequential) is deprecated and will be removed after 2021-01-01.\n",
            "Instructions for updating:\n",
            "Please use instead:* `np.argmax(model.predict(x), axis=-1)`,   if your model does multi-class classification   (e.g. if it uses a `softmax` last-layer activation).* `(model.predict(x) > 0.5).astype(\"int32\")`,   if your model does binary classification   (e.g. if it uses a `sigmoid` last-layer activation).\n",
            "Help me Obi Wan Kenobi, you're my only hope well well did thee did hate live doth show me lie of thee doth thine muse still in thee of me 'will ' stay still as be hold her long well remain shows mine eyes untrue find too gracious lies prove hold so prove another brow wrong pride blind glory but none view me none none grow made of him bright truth still hath life so made decays bright parts of thee live did spend wit die leaves sit write new lies write doth thee be praise thine ever to thine best old of thee so old blind will lie\n"
          ],
          "name": "stdout"
        }
      ]
    }
  ]
}